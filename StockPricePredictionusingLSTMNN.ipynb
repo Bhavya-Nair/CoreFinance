{
  "nbformat": 4,
  "nbformat_minor": 0,
  "metadata": {
    "colab": {
      "name": "StockPricePredictionusingLSTMNN.ipynb",
      "provenance": [],
      "collapsed_sections": []
    },
    "kernelspec": {
      "name": "python3",
      "display_name": "Python 3"
    },
    "language_info": {
      "name": "python"
    }
  },
  "cells": [
    {
      "cell_type": "code",
      "execution_count": 17,
      "metadata": {
        "colab": {
          "base_uri": "https://localhost:8080/",
          "height": 36
        },
        "id": "xQQF-FqIRXNR",
        "outputId": "6cec3c50-cb52-4dd7-fe91-64e6a83638d9"
      },
      "outputs": [
        {
          "output_type": "execute_result",
          "data": {
            "text/plain": [
              "'2.8.2'"
            ],
            "application/vnd.google.colaboratory.intrinsic+json": {
              "type": "string"
            }
          },
          "metadata": {},
          "execution_count": 17
        }
      ],
      "source": [
        "\n",
        "import numpy as np\n",
        "import pandas as pd\n",
        "import matplotlib.pyplot as plt\n",
        "%matplotlib inline\n",
        "from sklearn.preprocessing import MinMaxScaler\n",
        "from tensorflow.keras.models import Sequential, load_model\n",
        "from tensorflow.keras.layers import LSTM, Dense, Dropout\n",
        "import os\n",
        "import tensorflow as tf\n",
        "tf.__version__"
      ]
    },
    {
      "cell_type": "code",
      "source": [
        "import pandas_datareader as web\n",
        "!pip install yfinance --upgrade --no-cache-dir \n"
      ],
      "metadata": {
        "colab": {
          "base_uri": "https://localhost:8080/",
          "height": 502
        },
        "id": "8Xy9jfc1R6xz",
        "outputId": "5cc38e0c-fe0c-47eb-f1c0-5db636508156"
      },
      "execution_count": 3,
      "outputs": [
        {
          "output_type": "stream",
          "name": "stdout",
          "text": [
            "Looking in indexes: https://pypi.org/simple, https://us-python.pkg.dev/colab-wheels/public/simple/\n",
            "Collecting yfinance\n",
            "  Downloading yfinance-0.1.74-py2.py3-none-any.whl (27 kB)\n",
            "Requirement already satisfied: pandas>=0.24.0 in /usr/local/lib/python3.7/dist-packages (from yfinance) (1.3.5)\n",
            "Collecting requests>=2.26\n",
            "  Downloading requests-2.28.1-py3-none-any.whl (62 kB)\n",
            "\u001b[K     |████████████████████████████████| 62 kB 20.1 MB/s \n",
            "\u001b[?25hRequirement already satisfied: multitasking>=0.0.7 in /usr/local/lib/python3.7/dist-packages (from yfinance) (0.0.11)\n",
            "Requirement already satisfied: lxml>=4.5.1 in /usr/local/lib/python3.7/dist-packages (from yfinance) (4.9.1)\n",
            "Requirement already satisfied: numpy>=1.15 in /usr/local/lib/python3.7/dist-packages (from yfinance) (1.21.6)\n",
            "Requirement already satisfied: python-dateutil>=2.7.3 in /usr/local/lib/python3.7/dist-packages (from pandas>=0.24.0->yfinance) (2.8.2)\n",
            "Requirement already satisfied: pytz>=2017.3 in /usr/local/lib/python3.7/dist-packages (from pandas>=0.24.0->yfinance) (2022.1)\n",
            "Requirement already satisfied: six>=1.5 in /usr/local/lib/python3.7/dist-packages (from python-dateutil>=2.7.3->pandas>=0.24.0->yfinance) (1.15.0)\n",
            "Requirement already satisfied: certifi>=2017.4.17 in /usr/local/lib/python3.7/dist-packages (from requests>=2.26->yfinance) (2022.6.15)\n",
            "Requirement already satisfied: urllib3<1.27,>=1.21.1 in /usr/local/lib/python3.7/dist-packages (from requests>=2.26->yfinance) (1.24.3)\n",
            "Requirement already satisfied: idna<4,>=2.5 in /usr/local/lib/python3.7/dist-packages (from requests>=2.26->yfinance) (2.10)\n",
            "Requirement already satisfied: charset-normalizer<3,>=2 in /usr/local/lib/python3.7/dist-packages (from requests>=2.26->yfinance) (2.1.0)\n",
            "Installing collected packages: requests, yfinance\n",
            "  Attempting uninstall: requests\n",
            "    Found existing installation: requests 2.23.0\n",
            "    Uninstalling requests-2.23.0:\n",
            "      Successfully uninstalled requests-2.23.0\n",
            "Successfully installed requests-2.28.1 yfinance-0.1.74\n"
          ]
        },
        {
          "output_type": "display_data",
          "data": {
            "application/vnd.colab-display-data+json": {
              "pip_warning": {
                "packages": [
                  "requests"
                ]
              }
            }
          },
          "metadata": {}
        }
      ]
    },
    {
      "cell_type": "code",
      "source": [
        "import yfinance as yf"
      ],
      "metadata": {
        "id": "ariPzrckR7Vl"
      },
      "execution_count": 4,
      "outputs": []
    },
    {
      "cell_type": "code",
      "source": [
        "df =yf.download('CANBK.NS', start='2019-01-01', end='2022-08-1',progress=False)"
      ],
      "metadata": {
        "id": "ifRIYbNIR7nt"
      },
      "execution_count": 13,
      "outputs": []
    },
    {
      "cell_type": "code",
      "source": [
        "df"
      ],
      "metadata": {
        "colab": {
          "base_uri": "https://localhost:8080/",
          "height": 455
        },
        "id": "-X2k1eKfSVja",
        "outputId": "9369db4b-026a-4b15-cca2-a81d583283fc"
      },
      "execution_count": 14,
      "outputs": [
        {
          "output_type": "execute_result",
          "data": {
            "text/plain": [
              "                  Open        High         Low       Close   Adj Close  \\\n",
              "Date                                                                     \n",
              "2019-01-01  276.500000  283.399994  274.299988  281.500000  272.218994   \n",
              "2019-01-02  280.200012  283.700012  273.600006  275.399994  266.320099   \n",
              "2019-01-03  275.899994  278.399994  273.350006  276.299988  267.190430   \n",
              "2019-01-04  278.000000  285.500000  274.200012  282.950012  273.621185   \n",
              "2019-01-07  284.700012  286.450012  276.850006  278.250000  269.076141   \n",
              "...                ...         ...         ...         ...         ...   \n",
              "2022-07-25  229.250000  234.500000  220.649994  224.800003  224.800003   \n",
              "2022-07-26  225.899994  226.399994  220.250000  221.600006  221.600006   \n",
              "2022-07-27  221.100006  227.949997  220.750000  227.050003  227.050003   \n",
              "2022-07-28  229.000000  230.000000  224.350006  226.199997  226.199997   \n",
              "2022-07-29  228.199997  228.899994  221.600006  222.300003  222.300003   \n",
              "\n",
              "              Volume  \n",
              "Date                  \n",
              "2019-01-01   5419071  \n",
              "2019-01-02   5644563  \n",
              "2019-01-03   3993439  \n",
              "2019-01-04   6138056  \n",
              "2019-01-07   3551975  \n",
              "...              ...  \n",
              "2022-07-25  27755911  \n",
              "2022-07-26  10147905  \n",
              "2022-07-27   8536507  \n",
              "2022-07-28   8142350  \n",
              "2022-07-29   8064414  \n",
              "\n",
              "[886 rows x 6 columns]"
            ],
            "text/html": [
              "\n",
              "  <div id=\"df-0ea8d9c1-0372-4bcd-86cc-7f8ec1e915bf\">\n",
              "    <div class=\"colab-df-container\">\n",
              "      <div>\n",
              "<style scoped>\n",
              "    .dataframe tbody tr th:only-of-type {\n",
              "        vertical-align: middle;\n",
              "    }\n",
              "\n",
              "    .dataframe tbody tr th {\n",
              "        vertical-align: top;\n",
              "    }\n",
              "\n",
              "    .dataframe thead th {\n",
              "        text-align: right;\n",
              "    }\n",
              "</style>\n",
              "<table border=\"1\" class=\"dataframe\">\n",
              "  <thead>\n",
              "    <tr style=\"text-align: right;\">\n",
              "      <th></th>\n",
              "      <th>Open</th>\n",
              "      <th>High</th>\n",
              "      <th>Low</th>\n",
              "      <th>Close</th>\n",
              "      <th>Adj Close</th>\n",
              "      <th>Volume</th>\n",
              "    </tr>\n",
              "    <tr>\n",
              "      <th>Date</th>\n",
              "      <th></th>\n",
              "      <th></th>\n",
              "      <th></th>\n",
              "      <th></th>\n",
              "      <th></th>\n",
              "      <th></th>\n",
              "    </tr>\n",
              "  </thead>\n",
              "  <tbody>\n",
              "    <tr>\n",
              "      <th>2019-01-01</th>\n",
              "      <td>276.500000</td>\n",
              "      <td>283.399994</td>\n",
              "      <td>274.299988</td>\n",
              "      <td>281.500000</td>\n",
              "      <td>272.218994</td>\n",
              "      <td>5419071</td>\n",
              "    </tr>\n",
              "    <tr>\n",
              "      <th>2019-01-02</th>\n",
              "      <td>280.200012</td>\n",
              "      <td>283.700012</td>\n",
              "      <td>273.600006</td>\n",
              "      <td>275.399994</td>\n",
              "      <td>266.320099</td>\n",
              "      <td>5644563</td>\n",
              "    </tr>\n",
              "    <tr>\n",
              "      <th>2019-01-03</th>\n",
              "      <td>275.899994</td>\n",
              "      <td>278.399994</td>\n",
              "      <td>273.350006</td>\n",
              "      <td>276.299988</td>\n",
              "      <td>267.190430</td>\n",
              "      <td>3993439</td>\n",
              "    </tr>\n",
              "    <tr>\n",
              "      <th>2019-01-04</th>\n",
              "      <td>278.000000</td>\n",
              "      <td>285.500000</td>\n",
              "      <td>274.200012</td>\n",
              "      <td>282.950012</td>\n",
              "      <td>273.621185</td>\n",
              "      <td>6138056</td>\n",
              "    </tr>\n",
              "    <tr>\n",
              "      <th>2019-01-07</th>\n",
              "      <td>284.700012</td>\n",
              "      <td>286.450012</td>\n",
              "      <td>276.850006</td>\n",
              "      <td>278.250000</td>\n",
              "      <td>269.076141</td>\n",
              "      <td>3551975</td>\n",
              "    </tr>\n",
              "    <tr>\n",
              "      <th>...</th>\n",
              "      <td>...</td>\n",
              "      <td>...</td>\n",
              "      <td>...</td>\n",
              "      <td>...</td>\n",
              "      <td>...</td>\n",
              "      <td>...</td>\n",
              "    </tr>\n",
              "    <tr>\n",
              "      <th>2022-07-25</th>\n",
              "      <td>229.250000</td>\n",
              "      <td>234.500000</td>\n",
              "      <td>220.649994</td>\n",
              "      <td>224.800003</td>\n",
              "      <td>224.800003</td>\n",
              "      <td>27755911</td>\n",
              "    </tr>\n",
              "    <tr>\n",
              "      <th>2022-07-26</th>\n",
              "      <td>225.899994</td>\n",
              "      <td>226.399994</td>\n",
              "      <td>220.250000</td>\n",
              "      <td>221.600006</td>\n",
              "      <td>221.600006</td>\n",
              "      <td>10147905</td>\n",
              "    </tr>\n",
              "    <tr>\n",
              "      <th>2022-07-27</th>\n",
              "      <td>221.100006</td>\n",
              "      <td>227.949997</td>\n",
              "      <td>220.750000</td>\n",
              "      <td>227.050003</td>\n",
              "      <td>227.050003</td>\n",
              "      <td>8536507</td>\n",
              "    </tr>\n",
              "    <tr>\n",
              "      <th>2022-07-28</th>\n",
              "      <td>229.000000</td>\n",
              "      <td>230.000000</td>\n",
              "      <td>224.350006</td>\n",
              "      <td>226.199997</td>\n",
              "      <td>226.199997</td>\n",
              "      <td>8142350</td>\n",
              "    </tr>\n",
              "    <tr>\n",
              "      <th>2022-07-29</th>\n",
              "      <td>228.199997</td>\n",
              "      <td>228.899994</td>\n",
              "      <td>221.600006</td>\n",
              "      <td>222.300003</td>\n",
              "      <td>222.300003</td>\n",
              "      <td>8064414</td>\n",
              "    </tr>\n",
              "  </tbody>\n",
              "</table>\n",
              "<p>886 rows × 6 columns</p>\n",
              "</div>\n",
              "      <button class=\"colab-df-convert\" onclick=\"convertToInteractive('df-0ea8d9c1-0372-4bcd-86cc-7f8ec1e915bf')\"\n",
              "              title=\"Convert this dataframe to an interactive table.\"\n",
              "              style=\"display:none;\">\n",
              "        \n",
              "  <svg xmlns=\"http://www.w3.org/2000/svg\" height=\"24px\"viewBox=\"0 0 24 24\"\n",
              "       width=\"24px\">\n",
              "    <path d=\"M0 0h24v24H0V0z\" fill=\"none\"/>\n",
              "    <path d=\"M18.56 5.44l.94 2.06.94-2.06 2.06-.94-2.06-.94-.94-2.06-.94 2.06-2.06.94zm-11 1L8.5 8.5l.94-2.06 2.06-.94-2.06-.94L8.5 2.5l-.94 2.06-2.06.94zm10 10l.94 2.06.94-2.06 2.06-.94-2.06-.94-.94-2.06-.94 2.06-2.06.94z\"/><path d=\"M17.41 7.96l-1.37-1.37c-.4-.4-.92-.59-1.43-.59-.52 0-1.04.2-1.43.59L10.3 9.45l-7.72 7.72c-.78.78-.78 2.05 0 2.83L4 21.41c.39.39.9.59 1.41.59.51 0 1.02-.2 1.41-.59l7.78-7.78 2.81-2.81c.8-.78.8-2.07 0-2.86zM5.41 20L4 18.59l7.72-7.72 1.47 1.35L5.41 20z\"/>\n",
              "  </svg>\n",
              "      </button>\n",
              "      \n",
              "  <style>\n",
              "    .colab-df-container {\n",
              "      display:flex;\n",
              "      flex-wrap:wrap;\n",
              "      gap: 12px;\n",
              "    }\n",
              "\n",
              "    .colab-df-convert {\n",
              "      background-color: #E8F0FE;\n",
              "      border: none;\n",
              "      border-radius: 50%;\n",
              "      cursor: pointer;\n",
              "      display: none;\n",
              "      fill: #1967D2;\n",
              "      height: 32px;\n",
              "      padding: 0 0 0 0;\n",
              "      width: 32px;\n",
              "    }\n",
              "\n",
              "    .colab-df-convert:hover {\n",
              "      background-color: #E2EBFA;\n",
              "      box-shadow: 0px 1px 2px rgba(60, 64, 67, 0.3), 0px 1px 3px 1px rgba(60, 64, 67, 0.15);\n",
              "      fill: #174EA6;\n",
              "    }\n",
              "\n",
              "    [theme=dark] .colab-df-convert {\n",
              "      background-color: #3B4455;\n",
              "      fill: #D2E3FC;\n",
              "    }\n",
              "\n",
              "    [theme=dark] .colab-df-convert:hover {\n",
              "      background-color: #434B5C;\n",
              "      box-shadow: 0px 1px 3px 1px rgba(0, 0, 0, 0.15);\n",
              "      filter: drop-shadow(0px 1px 2px rgba(0, 0, 0, 0.3));\n",
              "      fill: #FFFFFF;\n",
              "    }\n",
              "  </style>\n",
              "\n",
              "      <script>\n",
              "        const buttonEl =\n",
              "          document.querySelector('#df-0ea8d9c1-0372-4bcd-86cc-7f8ec1e915bf button.colab-df-convert');\n",
              "        buttonEl.style.display =\n",
              "          google.colab.kernel.accessAllowed ? 'block' : 'none';\n",
              "\n",
              "        async function convertToInteractive(key) {\n",
              "          const element = document.querySelector('#df-0ea8d9c1-0372-4bcd-86cc-7f8ec1e915bf');\n",
              "          const dataTable =\n",
              "            await google.colab.kernel.invokeFunction('convertToInteractive',\n",
              "                                                     [key], {});\n",
              "          if (!dataTable) return;\n",
              "\n",
              "          const docLinkHtml = 'Like what you see? Visit the ' +\n",
              "            '<a target=\"_blank\" href=https://colab.research.google.com/notebooks/data_table.ipynb>data table notebook</a>'\n",
              "            + ' to learn more about interactive tables.';\n",
              "          element.innerHTML = '';\n",
              "          dataTable['output_type'] = 'display_data';\n",
              "          await google.colab.output.renderOutput(dataTable, element);\n",
              "          const docLink = document.createElement('div');\n",
              "          docLink.innerHTML = docLinkHtml;\n",
              "          element.appendChild(docLink);\n",
              "        }\n",
              "      </script>\n",
              "    </div>\n",
              "  </div>\n",
              "  "
            ]
          },
          "metadata": {},
          "execution_count": 14
        }
      ]
    },
    {
      "cell_type": "code",
      "source": [
        "df = df['Open'].values\n",
        "df = df.reshape(-1,1)\n",
        "print(df.shape)\n",
        "df[:7]"
      ],
      "metadata": {
        "colab": {
          "base_uri": "https://localhost:8080/"
        },
        "id": "DGQqMzmcR71j",
        "outputId": "65e81bec-0527-4a63-8037-e2098c73c77f"
      },
      "execution_count": 15,
      "outputs": [
        {
          "output_type": "stream",
          "name": "stdout",
          "text": [
            "(886, 1)\n"
          ]
        },
        {
          "output_type": "execute_result",
          "data": {
            "text/plain": [
              "array([[276.5       ],\n",
              "       [280.20001221],\n",
              "       [275.8999939 ],\n",
              "       [278.        ],\n",
              "       [284.70001221],\n",
              "       [277.8999939 ],\n",
              "       [289.        ]])"
            ]
          },
          "metadata": {},
          "execution_count": 15
        }
      ]
    },
    {
      "cell_type": "code",
      "source": [
        "dataset_train = np.array(df[:int(df.shape[0]*0.8)])\n",
        "dataset_test = np.array(df[int(df.shape[0]*0.8)-50:])"
      ],
      "metadata": {
        "id": "t7ykR0rjR8Bv"
      },
      "execution_count": 18,
      "outputs": []
    },
    {
      "cell_type": "code",
      "source": [
        "dataset_test.shape"
      ],
      "metadata": {
        "colab": {
          "base_uri": "https://localhost:8080/"
        },
        "id": "3HcQTqQzR8Mc",
        "outputId": "e07d51a3-87db-420f-d1e5-aaa4c5df3836"
      },
      "execution_count": 19,
      "outputs": [
        {
          "output_type": "execute_result",
          "data": {
            "text/plain": [
              "(228, 1)"
            ]
          },
          "metadata": {},
          "execution_count": 19
        }
      ]
    },
    {
      "cell_type": "code",
      "source": [
        "scaler = MinMaxScaler(feature_range=(0,1))\n",
        "dataset_train = scaler.fit_transform(dataset_train)\n",
        "dataset_train[:7]"
      ],
      "metadata": {
        "colab": {
          "base_uri": "https://localhost:8080/"
        },
        "id": "uc50JvF6R8Wr",
        "outputId": "4ddda4c7-5060-41ca-913f-dd8e84b7ab82"
      },
      "execution_count": 20,
      "outputs": [
        {
          "output_type": "execute_result",
          "data": {
            "text/plain": [
              "array([[0.90707162],\n",
              "       [0.92384412],\n",
              "       [0.90435174],\n",
              "       [0.91387126],\n",
              "       [0.94424303],\n",
              "       [0.91341792],\n",
              "       [0.96373527]])"
            ]
          },
          "metadata": {},
          "execution_count": 20
        }
      ]
    },
    {
      "cell_type": "code",
      "source": [
        "dataset_test = scaler.transform(dataset_test)\n",
        "dataset_test[:7]"
      ],
      "metadata": {
        "id": "GBtuEdzwRefu",
        "colab": {
          "base_uri": "https://localhost:8080/"
        },
        "outputId": "9bc8b160-3472-4545-8ccc-bffe56d99baa"
      },
      "execution_count": 21,
      "outputs": [
        {
          "output_type": "execute_result",
          "data": {
            "text/plain": [
              "array([[0.37443336],\n",
              "       [0.38644602],\n",
              "       [0.37601997],\n",
              "       [0.38667269],\n",
              "       [0.3821396 ],\n",
              "       [0.36128742],\n",
              "       [0.36536718]])"
            ]
          },
          "metadata": {},
          "execution_count": 21
        }
      ]
    },
    {
      "cell_type": "code",
      "source": [
        "def create_my_dataset(df):\n",
        "    x = []\n",
        "    y = []\n",
        "    for i in range(50,df.shape[0]):\n",
        "        x.append(df[i-50:i,0])\n",
        "        y.append(df[i,0])\n",
        "    x = np.array(x)\n",
        "    y = np.array(y)\n",
        "    return x,y"
      ],
      "metadata": {
        "id": "zVuDYZf2TzYR"
      },
      "execution_count": 22,
      "outputs": []
    },
    {
      "cell_type": "code",
      "source": [
        "x_train,y_train = create_my_dataset(dataset_train)\n",
        "x_train[:1]\n"
      ],
      "metadata": {
        "colab": {
          "base_uri": "https://localhost:8080/"
        },
        "id": "6e8qgOk1T32g",
        "outputId": "6601c1da-18b8-492d-aa5f-ca64711922ae"
      },
      "execution_count": 23,
      "outputs": [
        {
          "output_type": "execute_result",
          "data": {
            "text/plain": [
              "array([[0.90707162, 0.92384412, 0.90435174, 0.91387126, 0.94424303,\n",
              "        0.91341792, 0.96373527, 0.92633726, 0.93155029, 0.91500453,\n",
              "        0.92633726, 0.90593835, 0.90435174, 0.91137811, 0.89573889,\n",
              "        0.86400725, 0.84814143, 0.83454216, 0.85040798, 0.81414324,\n",
              "        0.75022663, 0.77787851, 0.79442427, 0.79601088, 0.73708069,\n",
              "        0.72348141, 0.70761559, 0.72370808, 0.72348141, 0.6906165 ,\n",
              "        0.6736174 , 0.64913874, 0.66772437, 0.63508613, 0.62783315,\n",
              "        0.63508613, 0.6736174 , 0.65775158, 0.66817771, 0.64641886,\n",
              "        0.64641886, 0.6967362 , 0.7085222 , 0.75929281, 0.80938348,\n",
              "        0.80009063, 0.81074343, 0.81368991, 0.84542155, 0.81504992]])"
            ]
          },
          "metadata": {},
          "execution_count": 23
        }
      ]
    },
    {
      "cell_type": "code",
      "source": [
        "x_train[:1].shape"
      ],
      "metadata": {
        "colab": {
          "base_uri": "https://localhost:8080/"
        },
        "id": "jF2ntEUWUEhV",
        "outputId": "0e7eb6aa-3763-4595-baf8-ad01a66320cb"
      },
      "execution_count": 24,
      "outputs": [
        {
          "output_type": "execute_result",
          "data": {
            "text/plain": [
              "(1, 50)"
            ]
          },
          "metadata": {},
          "execution_count": 24
        }
      ]
    },
    {
      "cell_type": "code",
      "source": [
        "x_test,y_test = create_my_dataset(dataset_test)\n",
        "x_test[:1]"
      ],
      "metadata": {
        "colab": {
          "base_uri": "https://localhost:8080/"
        },
        "id": "lbwWd5IIUDsL",
        "outputId": "000c018c-240f-452c-fcd7-43437cf014da"
      },
      "execution_count": 25,
      "outputs": [
        {
          "output_type": "execute_result",
          "data": {
            "text/plain": [
              "array([[0.37443336, 0.38644602, 0.37601997, 0.38667269, 0.3821396 ,\n",
              "        0.36128742, 0.36536718, 0.36536718, 0.36536718, 0.36264729,\n",
              "        0.38621943, 0.42112422, 0.37443336, 0.36219403, 0.35992748,\n",
              "        0.37080687, 0.38349954, 0.3748867 , 0.37896645, 0.38712603,\n",
              "        0.41953761, 0.43517676, 0.45784222, 0.47869447, 0.47008162,\n",
              "        0.45398913, 0.45602901, 0.46509519, 0.45602901, 0.51042611,\n",
              "        0.50543968, 0.54125114, 0.56436987, 0.5158658 , 0.54714418,\n",
              "        0.56482321, 0.55847691, 0.57388939, 0.55507709, 0.56459654,\n",
              "        0.53603805, 0.62828649, 0.63281958, 0.67248413, 0.68563007,\n",
              "        0.69605619, 0.76427924, 0.75067996, 0.72438802, 0.70988214]])"
            ]
          },
          "metadata": {},
          "execution_count": 25
        }
      ]
    },
    {
      "cell_type": "code",
      "source": [
        "#x_train.shape\n",
        "#(957,50,1)\n",
        "x_train = np.reshape(x_train,(x_train.shape[0],x_train.shape[1],1))\n",
        "x_test = np.reshape(x_test,(x_test.shape[0],x_test.shape[1],1))\n",
        "print(x_train.shape)\n",
        "print(x_test.shape)"
      ],
      "metadata": {
        "colab": {
          "base_uri": "https://localhost:8080/"
        },
        "id": "mjKe6RpUUEEH",
        "outputId": "0c8e25ec-7b9e-4c75-b86a-3dc4bf0a7e2e"
      },
      "execution_count": 26,
      "outputs": [
        {
          "output_type": "stream",
          "name": "stdout",
          "text": [
            "(658, 50, 1)\n",
            "(178, 50, 1)\n"
          ]
        }
      ]
    },
    {
      "cell_type": "code",
      "source": [
        "model = Sequential()\n",
        "model.add(LSTM(units=96,return_sequences=True, input_shape=(x_train.shape[1],1)))\n",
        "model.add(Dropout(0.2))\n",
        "model.add(LSTM(units=96, return_sequences=True))\n",
        "model.add(Dropout(0.2))\n",
        "model.add(LSTM(units=96))\n",
        "model.add(Dropout(0.2))\n",
        "model.add(Dense(units=1))"
      ],
      "metadata": {
        "id": "WO0hmHg4UET6"
      },
      "execution_count": 27,
      "outputs": []
    },
    {
      "cell_type": "code",
      "source": [
        "model.summary()"
      ],
      "metadata": {
        "colab": {
          "base_uri": "https://localhost:8080/"
        },
        "id": "LjZgS30cUb5m",
        "outputId": "64a19efe-d2a0-40a3-8fad-6846d7b902fb"
      },
      "execution_count": 28,
      "outputs": [
        {
          "output_type": "stream",
          "name": "stdout",
          "text": [
            "Model: \"sequential\"\n",
            "_________________________________________________________________\n",
            " Layer (type)                Output Shape              Param #   \n",
            "=================================================================\n",
            " lstm (LSTM)                 (None, 50, 96)            37632     \n",
            "                                                                 \n",
            " dropout (Dropout)           (None, 50, 96)            0         \n",
            "                                                                 \n",
            " lstm_1 (LSTM)               (None, 50, 96)            74112     \n",
            "                                                                 \n",
            " dropout_1 (Dropout)         (None, 50, 96)            0         \n",
            "                                                                 \n",
            " lstm_2 (LSTM)               (None, 96)                74112     \n",
            "                                                                 \n",
            " dropout_2 (Dropout)         (None, 96)                0         \n",
            "                                                                 \n",
            " dense (Dense)               (None, 1)                 97        \n",
            "                                                                 \n",
            "=================================================================\n",
            "Total params: 185,953\n",
            "Trainable params: 185,953\n",
            "Non-trainable params: 0\n",
            "_________________________________________________________________\n"
          ]
        }
      ]
    },
    {
      "cell_type": "code",
      "source": [
        "model.compile(loss = 'mean_squared_error', optimizer='adam')"
      ],
      "metadata": {
        "id": "-rT01KKFUjxC"
      },
      "execution_count": 29,
      "outputs": []
    },
    {
      "cell_type": "code",
      "source": [
        "if (not os.path.exists(r'C:\\Users\\USER\\stock_prediction.h5')):\n",
        "    model.fit(x_train,y_train, epochs=50, batch_size=32)\n",
        "    model.save(r'C:\\Users\\USER\\stock_prediction.h5')"
      ],
      "metadata": {
        "colab": {
          "base_uri": "https://localhost:8080/"
        },
        "id": "1Dm_4ipzUkHs",
        "outputId": "79398639-4251-4773-9c6f-ba81a7e6230c"
      },
      "execution_count": 30,
      "outputs": [
        {
          "output_type": "stream",
          "name": "stdout",
          "text": [
            "Epoch 1/50\n",
            "21/21 [==============================] - 6s 79ms/step - loss: 0.0325\n",
            "Epoch 2/50\n",
            "21/21 [==============================] - 2s 79ms/step - loss: 0.0069\n",
            "Epoch 3/50\n",
            "21/21 [==============================] - 2s 79ms/step - loss: 0.0061\n",
            "Epoch 4/50\n",
            "21/21 [==============================] - 2s 79ms/step - loss: 0.0046\n",
            "Epoch 5/50\n",
            "21/21 [==============================] - 2s 80ms/step - loss: 0.0045\n",
            "Epoch 6/50\n",
            "21/21 [==============================] - 2s 105ms/step - loss: 0.0044\n",
            "Epoch 7/50\n",
            "21/21 [==============================] - 2s 78ms/step - loss: 0.0044\n",
            "Epoch 8/50\n",
            "21/21 [==============================] - 2s 80ms/step - loss: 0.0041\n",
            "Epoch 9/50\n",
            "21/21 [==============================] - 2s 79ms/step - loss: 0.0041\n",
            "Epoch 10/50\n",
            "21/21 [==============================] - 2s 79ms/step - loss: 0.0041\n",
            "Epoch 11/50\n",
            "21/21 [==============================] - 2s 78ms/step - loss: 0.0033\n",
            "Epoch 12/50\n",
            "21/21 [==============================] - 2s 78ms/step - loss: 0.0034\n",
            "Epoch 13/50\n",
            "21/21 [==============================] - 2s 79ms/step - loss: 0.0032\n",
            "Epoch 14/50\n",
            "21/21 [==============================] - 2s 77ms/step - loss: 0.0037\n",
            "Epoch 15/50\n",
            "21/21 [==============================] - 2s 76ms/step - loss: 0.0029\n",
            "Epoch 16/50\n",
            "21/21 [==============================] - 2s 79ms/step - loss: 0.0035\n",
            "Epoch 17/50\n",
            "21/21 [==============================] - 2s 78ms/step - loss: 0.0031\n",
            "Epoch 18/50\n",
            "21/21 [==============================] - 2s 78ms/step - loss: 0.0032\n",
            "Epoch 19/50\n",
            "21/21 [==============================] - 2s 80ms/step - loss: 0.0030\n",
            "Epoch 20/50\n",
            "21/21 [==============================] - 2s 79ms/step - loss: 0.0027\n",
            "Epoch 21/50\n",
            "21/21 [==============================] - 2s 80ms/step - loss: 0.0029\n",
            "Epoch 22/50\n",
            "21/21 [==============================] - 2s 79ms/step - loss: 0.0034\n",
            "Epoch 23/50\n",
            "21/21 [==============================] - 2s 79ms/step - loss: 0.0036\n",
            "Epoch 24/50\n",
            "21/21 [==============================] - 2s 79ms/step - loss: 0.0028\n",
            "Epoch 25/50\n",
            "21/21 [==============================] - 2s 79ms/step - loss: 0.0028\n",
            "Epoch 26/50\n",
            "21/21 [==============================] - 2s 77ms/step - loss: 0.0026\n",
            "Epoch 27/50\n",
            "21/21 [==============================] - 2s 78ms/step - loss: 0.0027\n",
            "Epoch 28/50\n",
            "21/21 [==============================] - 2s 79ms/step - loss: 0.0024\n",
            "Epoch 29/50\n",
            "21/21 [==============================] - 2s 80ms/step - loss: 0.0023\n",
            "Epoch 30/50\n",
            "21/21 [==============================] - 2s 79ms/step - loss: 0.0027\n",
            "Epoch 31/50\n",
            "21/21 [==============================] - 2s 79ms/step - loss: 0.0025\n",
            "Epoch 32/50\n",
            "21/21 [==============================] - 2s 79ms/step - loss: 0.0023\n",
            "Epoch 33/50\n",
            "21/21 [==============================] - 2s 78ms/step - loss: 0.0026\n",
            "Epoch 34/50\n",
            "21/21 [==============================] - 2s 80ms/step - loss: 0.0025\n",
            "Epoch 35/50\n",
            "21/21 [==============================] - 2s 79ms/step - loss: 0.0026\n",
            "Epoch 36/50\n",
            "21/21 [==============================] - 2s 77ms/step - loss: 0.0024\n",
            "Epoch 37/50\n",
            "21/21 [==============================] - 2s 77ms/step - loss: 0.0024\n",
            "Epoch 38/50\n",
            "21/21 [==============================] - 2s 78ms/step - loss: 0.0023\n",
            "Epoch 39/50\n",
            "21/21 [==============================] - 2s 79ms/step - loss: 0.0021\n",
            "Epoch 40/50\n",
            "21/21 [==============================] - 2s 80ms/step - loss: 0.0023\n",
            "Epoch 41/50\n",
            "21/21 [==============================] - 2s 89ms/step - loss: 0.0024\n",
            "Epoch 42/50\n",
            "21/21 [==============================] - 2s 79ms/step - loss: 0.0021\n",
            "Epoch 43/50\n",
            "21/21 [==============================] - 2s 79ms/step - loss: 0.0021\n",
            "Epoch 44/50\n",
            "21/21 [==============================] - 2s 79ms/step - loss: 0.0023\n",
            "Epoch 45/50\n",
            "21/21 [==============================] - 2s 79ms/step - loss: 0.0025\n",
            "Epoch 46/50\n",
            "21/21 [==============================] - 2s 79ms/step - loss: 0.0023\n",
            "Epoch 47/50\n",
            "21/21 [==============================] - 2s 80ms/step - loss: 0.0022\n",
            "Epoch 48/50\n",
            "21/21 [==============================] - 2s 79ms/step - loss: 0.0027\n",
            "Epoch 49/50\n",
            "21/21 [==============================] - 2s 79ms/step - loss: 0.0020\n",
            "Epoch 50/50\n",
            "21/21 [==============================] - 2s 79ms/step - loss: 0.0020\n"
          ]
        }
      ]
    },
    {
      "cell_type": "code",
      "source": [
        "model = load_model(r'C:\\Users\\USER\\stock_prediction.h5')"
      ],
      "metadata": {
        "id": "JIKtXVlgUkcP"
      },
      "execution_count": 31,
      "outputs": []
    },
    {
      "cell_type": "code",
      "source": [
        "predictions = model.predict(x_test)\n",
        "predictions = scaler.inverse_transform(predictions)\n",
        "\n",
        "fig,ax = plt.subplots(figsize=(8,4))\n",
        "plt.plot(df,color='red', label='original Stockprice')\n",
        "ax.plot(range(len(y_train)+50, len(y_train)+50+len(predictions)),predictions, color='blue',label='Predictions')\n",
        "plt.legend()\n",
        "print(range(len(y_train)+50,len(y_train)+50+len(predictions)))"
      ],
      "metadata": {
        "colab": {
          "base_uri": "https://localhost:8080/",
          "height": 282
        },
        "id": "wuUL_sctV1OS",
        "outputId": "1e60c44d-194e-43c6-9c5f-a1c5dd915aa2"
      },
      "execution_count": 33,
      "outputs": [
        {
          "output_type": "stream",
          "name": "stdout",
          "text": [
            "range(708, 886)\n"
          ]
        },
        {
          "output_type": "display_data",
          "data": {
            "text/plain": [
              "<Figure size 576x288 with 1 Axes>"
            ],
            "image/png": "[encoded data removed]"
          },
          "metadata": {
            "needs_background": "light"
          }
        }
      ]
    },
    {
      "cell_type": "code",
      "source": [
        "y_test_scaled = scaler.inverse_transform(y_test.reshape(-1,1))\n",
        "\n",
        "fig,ax = plt.subplots(figsize=(8,4))\n",
        "ax.plot(y_test_scaled, color='red',label='True Prices')\n",
        "plt.plot(predictions,color=\"blue\",label = 'Predicted Prices')\n",
        "plt.legend()"
      ],
      "metadata": {
        "colab": {
          "base_uri": "https://localhost:8080/",
          "height": 282
        },
        "id": "pwZG8oIdWCl6",
        "outputId": "27b69562-fdf0-4520-ee52-fe38df8e5c08"
      },
      "execution_count": 34,
      "outputs": [
        {
          "output_type": "execute_result",
          "data": {
            "text/plain": [
              "<matplotlib.legend.Legend at 0x7f2781931c10>"
            ]
          },
          "metadata": {},
          "execution_count": 34
        },
        {
          "output_type": "display_data",
          "data": {
            "text/plain": [
              "<Figure size 576x288 with 1 Axes>"
            ],
            "image/png": "[encoded data removed]"
          },
          "metadata": {
            "needs_background": "light"
          }
        }
      ]
    },
    {
      "cell_type": "markdown",
      "source": [
        " Observations:\n",
        " The Stock prices of Canara Bank predicted shows almost similar treand compared to the original value and we can trance many over lapping instances from the graph which means the values are coinciding with the orignal values.\n"
      ],
      "metadata": {
        "id": "WVbzcjf-V1f5"
      }
    }
  ]
}